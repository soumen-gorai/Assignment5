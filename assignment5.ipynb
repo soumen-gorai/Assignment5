{
  "nbformat": 4,
  "nbformat_minor": 0,
  "metadata": {
    "colab": {
      "provenance": [],
      "authorship_tag": "ABX9TyOPLDKA/Cjox+DzAZaPQY4w",
      "include_colab_link": true
    },
    "kernelspec": {
      "name": "python3",
      "display_name": "Python 3"
    },
    "language_info": {
      "name": "python"
    }
  },
  "cells": [
    {
      "cell_type": "markdown",
      "metadata": {
        "id": "view-in-github",
        "colab_type": "text"
      },
      "source": [
        "<a href=\"https://colab.research.google.com/github/soumen-gorai/Assignment5/blob/main/assignment5.ipynb\" target=\"_parent\"><img src=\"https://colab.research.google.com/assets/colab-badge.svg\" alt=\"Open In Colab\"/></a>"
      ]
    },
    {
      "cell_type": "markdown",
      "source": [
        "#1. What are the five key concepts of Object-Oriented Programming (OOP)?\n",
        "1. **Encapsulation**:\n",
        "   This concept is about bundling the data and the methods that operate on the data into a single unit called a class.\n",
        "\n",
        "2. **Abstraction**: Abstraction simplifying complex systems by modeling classes based on the essential properties and behaviors an object should have. It hides the implementation details.\n",
        "\n",
        "3. **Inheritance**: Inheritance allows a new class (child class) to inherit properties and methods from an existing class (parent class). This promotes code reuse and establishes a relationship between parent and child classes, where the child class can add or modify behaviorfrom the parent.\n",
        "\n",
        "4. **Polymorphism**: Polymorphism means \"many forms,\" and it allows objects of different classes to be treated as objects of a common superclass. It enables one interface to be used for different data types. This can be achieved either through method overriding (runtime polymorphism) or method overloading (compile-time polymorphism).\n",
        "\n",
        "5. **Composition**: Composition is the practice of building complex objects by combining simpler objects. In this context, objects are composed of other objects, meaning one object can contain or use instances of other objects as part of its state. This is a design principle often preferred over inheritance, as it leads to more flexible and modular code.\n",
        "\n"
      ],
      "metadata": {
        "id": "0lHiwTD8x8Ae"
      }
    },
    {
      "cell_type": "code",
      "execution_count": 1,
      "metadata": {
        "id": "OcvAIBPbxhO1",
        "colab": {
          "base_uri": "https://localhost:8080/"
        },
        "outputId": "a0068b48-4065-4245-abd6-d37c03f3adc7"
      },
      "outputs": [
        {
          "output_type": "stream",
          "name": "stdout",
          "text": [
            "Car Information: 2019 BMW M2\n"
          ]
        }
      ],
      "source": [
        " #2 Write a Python class for a `Car` with attributes for `make`, `model`, and `year`. Include a method to display the car's information\n",
        "class Car:\n",
        "    def __init__(self, make, model, year):\n",
        "        # Initialize the attributes\n",
        "        self.make = make\n",
        "        self.model = model\n",
        "        self.year = year\n",
        "\n",
        "    def display_info(self):\n",
        "        # Method to display car information\n",
        "        print(f\"Car Information: {self.year} {self.make} {self.model}\")\n",
        "\n",
        "# Example usage:\n",
        "my_car = Car(\"BMW\", \"M2\", 2019)\n",
        "my_car.display_info()\n"
      ]
    },
    {
      "cell_type": "markdown",
      "source": [
        "#3. Explain the difference between instance methods and class methods. Provide an example of each.\n",
        "1. **Instance Methods**:\n",
        "**Definition**: Instance methods are methods that operate on an instance of the class. They can access and modify the object's attributes and call other instance methods.\n",
        "\n",
        "**First Parameter**: The first parameter of an instance method is typically self, which refers to the current instance of the class.\n",
        "\n",
        "2.**Class Methods**:\n",
        "\n",
        "**Definition**: Class methods are methods that operate on the class itself, rather than on instances of the class. They can modify class-level data but cannot modify instance-level data directly.\n",
        "\n",
        "**First Parameter**: The first parameter of a class method is cls, which refers to the class itself, not an instance. This allows class methods to access and modify class variables.\n",
        "\n",
        "**Key Differences**:\n",
        "**Instance Method**: Works on an instance of the class and can access the instance's attributes and methods.\n",
        "**Class Method**: Works on the class itself and can access class-level data.\n"
      ],
      "metadata": {
        "id": "SgTZf0Afl0hi"
      }
    },
    {
      "cell_type": "code",
      "source": [
        "class Car:\n",
        "    total_cars = 0\n",
        "    def __init__(self, make, model, year):\n",
        "        # Instance attributes\n",
        "        self.make = make\n",
        "        self.model = model\n",
        "        self.year = year\n",
        "        Car.total_cars += 1 #increment total car\n",
        "\n",
        "    # Instance Method\n",
        "    def display_info(self):\n",
        "        print(f\"Car Information: {self.year} {self.make} {self.model}\")\n",
        "\n",
        "    # Class Method\n",
        "    @classmethod\n",
        "    def get_total_cars(cls):\n",
        "        print(f\"Total number of cars: {cls.total_cars}\")\n",
        "\n",
        "# Create instances of the Car class\n",
        "car1 = Car(\"BMW\", \"M2\", 2018)\n",
        "car2 = Car(\"Honda\", \"city\", 2020)\n",
        "\n",
        "# Calling instance method\n",
        "car1.display_info()\n",
        "\n",
        "# Calling class method\n",
        "Car.get_total_cars()\n",
        "\n",
        "# Calling class method via an instance\n",
        "car2.get_total_cars()"
      ],
      "metadata": {
        "colab": {
          "base_uri": "https://localhost:8080/"
        },
        "id": "56U8DSL3m2g5",
        "outputId": "4b072ceb-08cb-4e08-d529-1d8ecfc7a9c1"
      },
      "execution_count": 2,
      "outputs": [
        {
          "output_type": "stream",
          "name": "stdout",
          "text": [
            "Car Information: 2018 BMW M2\n",
            "Total number of cars: 2\n",
            "Total number of cars: 2\n"
          ]
        }
      ]
    },
    {
      "cell_type": "markdown",
      "source": [
        " # 4 How does Python implement method overloading? Give an example.\n",
        "#Ways to Implement Method Overloading in Python:\n",
        "**Using Default Arguments**: You can specify default values for parameters, allowing the function to be called with a different number of arguments.\n",
        "\n",
        "**Using *args and **kwargs**: These allow the function to accept a variable number of positional and keyword arguments.\n",
        "\n",
        "**Manually Handling Overloading Logic**: You can manually check the number and types of arguments to provide custom behavior for different argument signatures.\n"
      ],
      "metadata": {
        "id": "UNONCsk5nwE_"
      }
    },
    {
      "cell_type": "code",
      "source": [
        "#Using Default Arguments\n",
        "class Calculator:\n",
        "    def add(self, a, b=0):\n",
        "        return a + b\n",
        "\n",
        "# Create an instance of Calculator\n",
        "calc = Calculator()\n",
        "\n",
        "print(calc.add(2, 3))\n",
        "print(calc.add(5))\n"
      ],
      "metadata": {
        "colab": {
          "base_uri": "https://localhost:8080/"
        },
        "id": "7a-yETT-oCah",
        "outputId": "c16ac53e-ab4e-4131-a63a-dc270660f21d"
      },
      "execution_count": 17,
      "outputs": [
        {
          "output_type": "stream",
          "name": "stdout",
          "text": [
            "5\n",
            "5\n"
          ]
        }
      ]
    },
    {
      "cell_type": "code",
      "source": [
        "#Using *args\n",
        "class Printer:\n",
        "    def print_message(self, *args):\n",
        "        for message in args:\n",
        "            print(message)\n",
        "\n",
        "# Create an instance of Printer\n",
        "printer = Printer()\n",
        "\n",
        "printer.print_message(\"Hello\")\n",
        "printer.print_message(\"Hello\", \"World\")\n",
        "printer.print_message(\"Message 1\", \"Message 2\", \"Message 3\")"
      ],
      "metadata": {
        "colab": {
          "base_uri": "https://localhost:8080/"
        },
        "id": "GxFv6sGXxqkd",
        "outputId": "e827d529-b244-49de-e771-d9b9b74a04ed"
      },
      "execution_count": 18,
      "outputs": [
        {
          "output_type": "stream",
          "name": "stdout",
          "text": [
            "Hello\n",
            "Hello\n",
            "World\n",
            "Message 1\n",
            "Message 2\n",
            "Message 3\n"
          ]
        }
      ]
    },
    {
      "cell_type": "markdown",
      "source": [
        "#5. What are the three types of access modifiers in Python? How are they denoted?\n",
        "#Public Access Modifier: Public members are accessible from anywhere—both inside and outside the class. There are no restrictions on access.\n",
        "#Protected Access Modifier: Protected members are meant to be protected from outside access, but can still be accessed from outside the class. They are intended for use within the class and its subclasses.\n",
        "#Private Access Modifier: Private members are strictly hidden from outside the class. They are intended to be used only within the class and cannot be accessed from outside."
      ],
      "metadata": {
        "id": "VHcD_j4joCs5"
      }
    },
    {
      "cell_type": "code",
      "source": [
        "class Car:\n",
        "    def __init__(self, make, model, year):\n",
        "        self.make = make  # Public attribute\n",
        "        self.model = model  # Public attribute\n",
        "        self.year = year  # Public attribute\n",
        "\n",
        "    def display_info(self):  # Public method\n",
        "        print(f\"{self.year} {self.make} {self.model}\")\n",
        "\n",
        "# Usage\n",
        "car = Car(\"BMW\", \"M2\", 2018)\n",
        "print(car.make)\n",
        "car.display_info()\n"
      ],
      "metadata": {
        "colab": {
          "base_uri": "https://localhost:8080/"
        },
        "id": "kKwwdN1vl01D",
        "outputId": "aa31e9fb-6f65-4cd2-dba6-5763f8648409"
      },
      "execution_count": 3,
      "outputs": [
        {
          "output_type": "stream",
          "name": "stdout",
          "text": [
            "BMW\n",
            "2018 BMW M2\n"
          ]
        }
      ]
    },
    {
      "cell_type": "code",
      "source": [
        "class Car:\n",
        "    def __init__(self, make, model, year):\n",
        "        self._make = make  # Protected attribute\n",
        "        self._model = model  # Protected attribute\n",
        "        self._year = year  # Protected attribute\n",
        "\n",
        "    def _display_info(self):  # Protected method\n",
        "        print(f\"{self._year} {self._make} {self._model}\")\n",
        "\n",
        "class ElectricCar(Car):\n",
        "    def __init__(self, make, model, year, battery_size):\n",
        "        super().__init__(make, model, year)\n",
        "        self._battery_size = battery_size  # Protected attribute\n",
        "\n",
        "    def display_battery(self):\n",
        "        print(f\"Battery size: {self._battery_size} kWh\")\n",
        "\n",
        "electric_car = ElectricCar(\"Tesla\", \"Model S\", 2023, 100)\n",
        "print(electric_car._make)\n",
        "electric_car._display_info()\n"
      ],
      "metadata": {
        "colab": {
          "base_uri": "https://localhost:8080/"
        },
        "id": "Ada0BbkqpEzl",
        "outputId": "7d23692e-4947-49f6-fad8-b9c50528cea5"
      },
      "execution_count": 6,
      "outputs": [
        {
          "output_type": "stream",
          "name": "stdout",
          "text": [
            "Tesla\n",
            "2023 Tesla Model S\n"
          ]
        }
      ]
    },
    {
      "cell_type": "code",
      "source": [
        "class Car:\n",
        "    def __init__(self, make, model, year):\n",
        "        self.__make = make  # Private attribute\n",
        "        self.__model = model  # Private attribute\n",
        "        self.__year = year  # Private attribute\n",
        "\n",
        "    def __display_info(self):  # Private method\n",
        "        print(f\"{self.__year} {self.__make} {self.__model}\")\n",
        "\n",
        "    def public_method(self):\n",
        "        print(\"Public method can access private method .\")\n",
        "        self.__display_info()\n",
        "car = Car(\"BMW\", \"M2\", 2018)\n",
        "# print(car.__make)  # This will raise an AttributeError, because __make is private\n",
        "\n",
        "car.public_method()\n"
      ],
      "metadata": {
        "colab": {
          "base_uri": "https://localhost:8080/"
        },
        "id": "RNJ2rRtIpDE7",
        "outputId": "2f6d4d0a-a401-41fb-9a5e-90336b521557"
      },
      "execution_count": 5,
      "outputs": [
        {
          "output_type": "stream",
          "name": "stdout",
          "text": [
            "Public method can access private method .\n",
            "2018 BMW M2\n"
          ]
        }
      ]
    },
    {
      "cell_type": "markdown",
      "source": [
        "#6. Describe the five types of inheritance in Python. Provide a simple example of multiple inheritance.\n",
        "**Single Inheritance**:In single inheritance, a subclass inherits from one superclass.This is the simplest form of inheritance where one class derives from another.\n",
        "\n",
        "**Multiple Inheritance**:In multiple inheritance, a subclass inherits from more than one superclass.this allows a class to inherit attributes and methods from multiple parent classes.\n",
        "\n",
        "**Multilevel Inheritance**:In multilevel inheritance, a class inherits from another class, and then a third class inherits from the second class, forming a chain.\n",
        "\n",
        "**Hierarchical Inheritance**:In hierarchical inheritance, multiple subclasses inherit from a single superclass.This allows different classes to share common functionality defined in the base class.\n",
        "\n",
        "**Hybrid Inheritance**: Hybrid inheritance is a combination of two or more types of inheritance, such as a mix of multiple and multilevel inheritance.\n"
      ],
      "metadata": {
        "id": "YBHME8DsqJzy"
      }
    },
    {
      "cell_type": "code",
      "source": [
        "class Animal:\n",
        "    def __init__(self, name):\n",
        "        self.name = name\n",
        "\n",
        "    def speak(self):\n",
        "        print(f\"{self.name} makes a sound.\")\n",
        "\n",
        "class CanFly:\n",
        "    def fly(self):\n",
        "        print(f\"{self.name} can fly.\")\n",
        "\n",
        "class Bird(Animal, CanFly):\n",
        "    def __init__(self, name):\n",
        "        # Initializing both Animal and CanFly classes\n",
        "        Animal.__init__(self, name)\n",
        "\n",
        "    def speak(self):\n",
        "        print(f\"{self.name} chirps.\")\n",
        "\n",
        "# Creating an instance of Bird\n",
        "bird = Bird(\"Parrot\")\n",
        "\n",
        "# Calling methods from both parent classes\n",
        "bird.speak()\n",
        "bird.fly()\n"
      ],
      "metadata": {
        "colab": {
          "base_uri": "https://localhost:8080/"
        },
        "id": "HdblqAQtpC0x",
        "outputId": "ef2bf3ce-0e73-4a31-86fa-b2636b8c52c6"
      },
      "execution_count": 8,
      "outputs": [
        {
          "output_type": "stream",
          "name": "stdout",
          "text": [
            "Parrot chirps.\n",
            "Parrot can fly.\n"
          ]
        }
      ]
    },
    {
      "cell_type": "markdown",
      "source": [
        "#7. What is the Method Resolution Order (MRO) in Python? How can you retrieve it programmatically?\n",
        "Python uses an algorithm called C3 Linearization to compute the MRO. This algorithm ensures a consistent order in which classes are checked, avoiding ambiguity in method resolution.\n",
        "\n",
        "The MRO is important for the following reasons:\n",
        "\n",
        "**Method Lookup**: When you call a method or access an attribute, Python follows the MRO to search for the method/attribute in the class hierarchy.\n",
        "\n",
        "**Multiple Inheritance**: Without a well-defined MRO, multiple inheritance could lead to ambiguity about which class’s method or attribute should be used.\n",
        "\n",
        "\n",
        "\n"
      ],
      "metadata": {
        "id": "udAnJJz5r2SL"
      }
    },
    {
      "cell_type": "code",
      "source": [
        "class A:\n",
        "    def hello(self):\n",
        "        print(\"Hello from A\")\n",
        "\n",
        "class B(A):\n",
        "    def hello(self):\n",
        "        print(\"Hello from B\")\n",
        "\n",
        "class C(A):\n",
        "    def hello(self):\n",
        "        print(\"Hello from C\")\n",
        "\n",
        "class D(B, C):\n",
        "    pass\n",
        "\n",
        "# Create an instance of D\n",
        "d = D()\n",
        "d.hello()\n"
      ],
      "metadata": {
        "colab": {
          "base_uri": "https://localhost:8080/"
        },
        "id": "J5ZR1mVSr2E5",
        "outputId": "fda72d20-ba9d-4774-8124-87cf6514316d"
      },
      "execution_count": 19,
      "outputs": [
        {
          "output_type": "stream",
          "name": "stdout",
          "text": [
            "Hello from B\n"
          ]
        }
      ]
    },
    {
      "cell_type": "code",
      "source": [
        "#8 Create an abstract base class Shape with an abstract method area(). Then create two subclasses Circle and Rectangle that implement the area() method.\n",
        "\n",
        "from abc import ABC, abstractmethod\n",
        "import math\n",
        "\n",
        "# Abstract Base Class\n",
        "class Shape(ABC):\n",
        "    @abstractmethod\n",
        "    def area(self):\n",
        "        pass  # The method does not provide an implementation\n",
        "\n",
        "# Subclass 1: Circle\n",
        "class Circle(Shape):\n",
        "    def __init__(self, radius):\n",
        "        self.radius = radius\n",
        "\n",
        "    def area(self):\n",
        "        return math.pi * self.radius ** 2  # Formula for area of a circle: πr²\n",
        "\n",
        "# Subclass 2: Rectangle\n",
        "class Rectangle(Shape):\n",
        "    def __init__(self, width, height):\n",
        "        self.width = width\n",
        "        self.height = height\n",
        "\n",
        "    def area(self):\n",
        "        return self.width * self.height  # Formula for area of a rectangle: width * height\n",
        "\n",
        "# Create instances of Circle and Rectangle\n",
        "circle = Circle(5)\n",
        "rectangle = Rectangle(4, 6)\n",
        "\n",
        "# Calculate and print the areas\n",
        "print(f\"Area of Circle: {circle.area():.2f}\")\n",
        "print(f\"Area of Rectangle: {rectangle.area()}\")\n"
      ],
      "metadata": {
        "colab": {
          "base_uri": "https://localhost:8080/"
        },
        "id": "3ZZlUVcjso0y",
        "outputId": "f039c972-1c52-40b6-d506-607baf22b4be"
      },
      "execution_count": 9,
      "outputs": [
        {
          "output_type": "stream",
          "name": "stdout",
          "text": [
            "Area of Circle: 78.54\n",
            "Area of Rectangle: 24\n"
          ]
        }
      ]
    },
    {
      "cell_type": "code",
      "source": [
        "#9 Demonstrate polymorphism by creating a function that can work with different shape objects to calculate and print their areas.\n",
        "from abc import ABC, abstractmethod\n",
        "import math\n",
        "\n",
        "# Abstract Base Class\n",
        "class Shape(ABC):\n",
        "    @abstractmethod\n",
        "    def area(self):\n",
        "        pass  # Abstract method, to be implemented by subclasses\n",
        "\n",
        "# Subclass 1: Circle\n",
        "class Circle(Shape):\n",
        "    def __init__(self, radius):\n",
        "        self.radius = radius\n",
        "\n",
        "    def area(self):\n",
        "        return math.pi * self.radius ** 2  # Area of Circle: πr²\n",
        "\n",
        "# Subclass 2: Rectangle\n",
        "class Rectangle(Shape):\n",
        "    def __init__(self, width, height):\n",
        "        self.width = width\n",
        "        self.height = height\n",
        "\n",
        "    def area(self):\n",
        "        return self.width * self.height  # Area of Rectangle: width * height\n",
        "\n",
        "# Function that works with different Shape objects\n",
        "def print_area(shape: Shape):\n",
        "    print(f\"Area of {shape.__class__.__name__}: {shape.area():.2f}\")\n",
        "\n",
        "# Creating instances of Circle and Rectangle\n",
        "circle = Circle(5)\n",
        "rectangle = Rectangle(4, 6)\n",
        "\n",
        "# Demonstrating polymorphism: The same function works with different shape objects\n",
        "print_area(circle)\n",
        "print_area(rectangle)\n"
      ],
      "metadata": {
        "colab": {
          "base_uri": "https://localhost:8080/"
        },
        "id": "oMlSK65xtMct",
        "outputId": "214fdf0f-c04d-40a7-e543-0923c129a545"
      },
      "execution_count": 10,
      "outputs": [
        {
          "output_type": "stream",
          "name": "stdout",
          "text": [
            "Area of Circle: 78.54\n",
            "Area of Rectangle: 24.00\n"
          ]
        }
      ]
    },
    {
      "cell_type": "code",
      "source": [
        "#10 implement encapsulation in a BankAccount class with private attributes for balance and account_number. Include methods for deposit, withdrawal, and balance inquiry\n",
        "class BankAccount:\n",
        "    def __init__(self, account_number, initial_balance=0):\n",
        "        # Private attributes\n",
        "        self.__account_number = account_number\n",
        "        self.__balance = initial_balance\n",
        "\n",
        "    # Public method for deposit\n",
        "    def deposit(self, amount):\n",
        "        if amount > 0:\n",
        "            self.__balance += amount\n",
        "            print(f\"Deposited: ${amount}. New balance: ${self.__balance}\")\n",
        "        else:\n",
        "            print(\"Deposit amount must be positive.\")\n",
        "\n",
        "    # Public method for withdrawal\n",
        "    def withdraw(self, amount):\n",
        "        if amount > 0 and amount <= self.__balance:\n",
        "            self.__balance -= amount\n",
        "            print(f\"Withdrew: ${amount}. New balance: ${self.__balance}\")\n",
        "        elif amount > self.__balance:\n",
        "            print(\"Insufficient funds.\")\n",
        "        else:\n",
        "            print(\"Withdrawal amount must be positive.\")\n",
        "\n",
        "    # Public method for balance inquiry\n",
        "    def balance_inquiry(self):\n",
        "        print(f\"Account balance: ${self.__balance}\")\n",
        "\n",
        "    # Getter for account number (if needed for validation, etc.)\n",
        "    def get_account_number(self):\n",
        "        return self.__account_number\n",
        "\n",
        "# Create a BankAccount instance\n",
        "account = BankAccount(\"123456789\", 1000)\n",
        "\n",
        "# Performing operations\n",
        "account.deposit(500)\n",
        "account.withdraw(200)\n",
        "account.balance_inquiry()\n",
        "account.withdraw(1500)\n",
        "account.deposit(-100)"
      ],
      "metadata": {
        "colab": {
          "base_uri": "https://localhost:8080/"
        },
        "id": "uwkng4Wntp7v",
        "outputId": "1b9aa616-d8db-41d0-ac58-01e1b3c841d5"
      },
      "execution_count": 11,
      "outputs": [
        {
          "output_type": "stream",
          "name": "stdout",
          "text": [
            "Deposited: $500. New balance: $1500\n",
            "Withdrew: $200. New balance: $1300\n",
            "Account balance: $1300\n",
            "Insufficient funds.\n",
            "Deposit amount must be positive.\n"
          ]
        }
      ]
    },
    {
      "cell_type": "code",
      "source": [
        "#11. Write a class that overrides the `__str__` and `__add__` magic methods. What will these methods allow you to do?\n",
        "class Point:\n",
        "    def __init__(self, x, y):\n",
        "        self.x = x\n",
        "        self.y = y\n",
        "\n",
        "    # Override __str__ to provide a meaningful string representation of the object\n",
        "    def __str__(self):\n",
        "        return f\"Point({self.x}, {self.y})\"\n",
        "\n",
        "    # Override __add__ to allow adding two Point objects\n",
        "    def __add__(self, other):\n",
        "        if isinstance(other, Point):\n",
        "            # Return a new Point with added coordinates\n",
        "            return Point(self.x + other.x, self.y + other.y)\n",
        "        return NotImplemented  # In case the other object is not a Point\n",
        "\n",
        "# Create two Point objects\n",
        "point1 = Point(3, 4)\n",
        "point2 = Point(1, 2)\n",
        "\n",
        "# Using __str__ method implicitly when printing the object\n",
        "print(point1)\n",
        "# Using __add__ method when adding two Point objects\n",
        "result = point1 + point2\n",
        "print(result)\n",
        "\n"
      ],
      "metadata": {
        "colab": {
          "base_uri": "https://localhost:8080/"
        },
        "id": "7dj5Y7hyuHEz",
        "outputId": "5cf5691f-a3f0-4a61-e1f4-dfd29684740f"
      },
      "execution_count": 12,
      "outputs": [
        {
          "output_type": "stream",
          "name": "stdout",
          "text": [
            "Point(3, 4)\n",
            "Point(4, 6)\n"
          ]
        }
      ]
    },
    {
      "cell_type": "code",
      "source": [
        " #12 Create a decorator that measures and prints the execution time of a function.\n",
        "import time\n",
        "\n",
        "# Decorator to measure execution time\n",
        "def measure_execution_time(func):\n",
        "    def wrapper(*args, **kwargs):\n",
        "        start_time = time.time()\n",
        "        result = func(*args, **kwargs)\n",
        "        end_time = time.time()\n",
        "        execution_time = end_time - start_time\n",
        "        print(f\"Execution time of {func.__name__}: {execution_time:.4f} seconds\")\n",
        "        return result  # Return the result of the function\n",
        "    return wrapper\n",
        "\n",
        "# Apply the decorator to a function\n",
        "@measure_execution_time\n",
        "def some_heavy_computation():\n",
        "    time.sleep(2)\n",
        "\n",
        "@measure_execution_time\n",
        "def fast_computation():\n",
        "    time.sleep(0.5)\n",
        "\n",
        "# Test the functions\n",
        "some_heavy_computation()\n",
        "fast_computation()"
      ],
      "metadata": {
        "colab": {
          "base_uri": "https://localhost:8080/"
        },
        "id": "52WkUb9yuqSL",
        "outputId": "550ed5b9-bea1-412b-a78d-3f380c71ad2f"
      },
      "execution_count": 13,
      "outputs": [
        {
          "output_type": "stream",
          "name": "stdout",
          "text": [
            "Execution time of some_heavy_computation: 2.0021 seconds\n",
            "Execution time of fast_computation: 0.5006 seconds\n"
          ]
        }
      ]
    },
    {
      "cell_type": "code",
      "source": [
        "#13. Explain the concept of the Diamond Problem in multiple inheritance. How does Python resolve it?\n",
        "class A:\n",
        "    def greet(self):\n",
        "        print(\"Hello from A!\")\n",
        "\n",
        "class B(A):\n",
        "    def greet(self):\n",
        "        print(\"Hello from B!\")\n",
        "\n",
        "class C(A):\n",
        "    def greet(self):\n",
        "        print(\"Hello from C!\")\n",
        "\n",
        "class D(B, C):  # D inherits from both B and C\n",
        "    pass\n",
        "\n",
        "# Print the MRO for class D\n",
        "print(D.mro())\n",
        "\n",
        "# Create an instance of D\n",
        "d = D()\n",
        "d.greet()  # Which greet method will be called?\n"
      ],
      "metadata": {
        "colab": {
          "base_uri": "https://localhost:8080/"
        },
        "id": "IDuwcIIHwXTg",
        "outputId": "97968658-026c-4fc4-c0ae-53ae704cd1b9"
      },
      "execution_count": 14,
      "outputs": [
        {
          "output_type": "stream",
          "name": "stdout",
          "text": [
            "[<class '__main__.D'>, <class '__main__.B'>, <class '__main__.C'>, <class '__main__.A'>, <class 'object'>]\n",
            "Hello from B!\n"
          ]
        }
      ]
    },
    {
      "cell_type": "code",
      "source": [
        "#14. Write a class method that keeps track of the number of instances created from a class.\n",
        "class MyClass:\n",
        "    # Class-level variable to store the number of instances\n",
        "    instance_count = 0\n",
        "\n",
        "    def __init__(self):\n",
        "        # Every time an instance is created, increment the instance_count\n",
        "        MyClass.instance_count += 1\n",
        "\n",
        "    @classmethod\n",
        "    def get_instance_count(cls):\n",
        "        # Class method to return the current instance count\n",
        "        return cls.instance_count\n",
        "\n",
        "# Create instances of MyClass\n",
        "obj1 = MyClass()\n",
        "obj2 = MyClass()\n",
        "obj3 = MyClass()\n",
        "\n",
        "# Access the class method to get the number of instances created\n",
        "print(MyClass.get_instance_count())\n"
      ],
      "metadata": {
        "colab": {
          "base_uri": "https://localhost:8080/"
        },
        "id": "kDa7mQw2wkMP",
        "outputId": "1d7a4ee7-1406-401c-dfce-de8cec96844e"
      },
      "execution_count": 15,
      "outputs": [
        {
          "output_type": "stream",
          "name": "stdout",
          "text": [
            "3\n"
          ]
        }
      ]
    },
    {
      "cell_type": "code",
      "source": [
        "#15 Implement a static method in a class that checks if a given year is a leap year.\n",
        "class YearUtils:\n",
        "\n",
        "    @staticmethod\n",
        "    def is_leap_year(year):\n",
        "        if (year % 4 == 0 and year % 100 != 0) or (year % 400 == 0):\n",
        "            return True\n",
        "        else:\n",
        "            return False\n",
        "\n",
        "# Test the static method\n",
        "print(YearUtils.is_leap_year(2024))\n",
        "print(YearUtils.is_leap_year(2023))\n",
        "print(YearUtils.is_leap_year(2000))\n",
        "print(YearUtils.is_leap_year(1900))"
      ],
      "metadata": {
        "colab": {
          "base_uri": "https://localhost:8080/"
        },
        "id": "0Wl14Kuiw3Nw",
        "outputId": "13237806-12fb-4e3e-b0ee-825c9ea6ec9b"
      },
      "execution_count": 16,
      "outputs": [
        {
          "output_type": "stream",
          "name": "stdout",
          "text": [
            "True\n",
            "False\n",
            "True\n",
            "False\n"
          ]
        }
      ]
    },
    {
      "cell_type": "markdown",
      "source": [],
      "metadata": {
        "id": "WdJmGPHSsVdM"
      }
    }
  ]
}